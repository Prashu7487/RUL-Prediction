{
  "cells": [
    {
      "cell_type": "markdown",
      "metadata": {
        "id": "view-in-github",
        "colab_type": "text"
      },
      "source": [
        "<a href=\"https://colab.research.google.com/github/Prashu7487/RUL-Prediction/blob/main/Reading_MATLAB.ipynb\" target=\"_parent\"><img src=\"https://colab.research.google.com/assets/colab-badge.svg\" alt=\"Open In Colab\"/></a>"
      ]
    },
    {
      "cell_type": "markdown",
      "metadata": {
        "id": "f_HzX0_5Xvcm"
      },
      "source": [
        "[![Open In Colab](https://colab.research.google.com/assets/colab-badge.svg)](https://colab.research.google.com/github/ashiquem/vault/blob/master/python/Matlab%20Data%20Demo.ipynb)\n",
        "\n"
      ]
    },
    {
      "cell_type": "markdown",
      "metadata": {
        "id": "xv8K1yoKXvdF"
      },
      "source": [
        "### Loading and inspecting the file"
      ]
    },
    {
      "cell_type": "code",
      "execution_count": null,
      "metadata": {
        "id": "Kg9tJ5JeXvdG"
      },
      "outputs": [],
      "source": [
        "from scipy.io import loadmat\n",
        "import pandas as pd"
      ]
    },
    {
      "cell_type": "code",
      "execution_count": null,
      "metadata": {
        "colab": {
          "base_uri": "https://localhost:8080/"
        },
        "id": "5s63gexLXvdI",
        "outputId": "dd00568b-b527-4651-eb3f-18e01c78c258"
      },
      "outputs": [
        {
          "output_type": "execute_result",
          "data": {
            "text/plain": [
              "dict"
            ]
          },
          "metadata": {},
          "execution_count": 2
        }
      ],
      "source": [
        "annots = loadmat('B0005.mat')\n",
        "type(annots)"
      ]
    },
    {
      "cell_type": "code",
      "execution_count": null,
      "metadata": {
        "colab": {
          "base_uri": "https://localhost:8080/"
        },
        "id": "SbcdI6oMab9T",
        "outputId": "3e27e7a4-f80b-4f64-91af-ccd550ba335f"
      },
      "outputs": [
        {
          "output_type": "stream",
          "name": "stdout",
          "text": [
            "dict_keys(['__header__', '__version__', '__globals__', 'B0005'])\n"
          ]
        },
        {
          "output_type": "execute_result",
          "data": {
            "text/plain": [
              "b'MATLAB 5.0 MAT-file, Platform: PCWIN, Created on: Wed Oct 01 15:50:14 2008'"
            ]
          },
          "metadata": {},
          "execution_count": 3
        }
      ],
      "source": [
        "print(annots.keys())\n",
        "annots['__header__']"
      ]
    },
    {
      "cell_type": "code",
      "execution_count": null,
      "metadata": {
        "colab": {
          "base_uri": "https://localhost:8080/",
          "height": 53
        },
        "id": "vRM3ZHGLapZT",
        "outputId": "4348bd1a-30d4-4406-cb03-f02312253b2c"
      },
      "outputs": [
        {
          "output_type": "stream",
          "name": "stdout",
          "text": [
            "[]\n"
          ]
        },
        {
          "output_type": "execute_result",
          "data": {
            "text/plain": [
              "'1.0'"
            ],
            "application/vnd.google.colaboratory.intrinsic+json": {
              "type": "string"
            }
          },
          "metadata": {},
          "execution_count": 4
        }
      ],
      "source": [
        "print(annots['__globals__'])\n",
        "annots['__version__']"
      ]
    },
    {
      "cell_type": "code",
      "execution_count": null,
      "metadata": {
        "colab": {
          "base_uri": "https://localhost:8080/"
        },
        "id": "Xy40Ks8EeEpK",
        "outputId": "e4babab9-49cc-4515-c243-9bc63126f216"
      },
      "outputs": [
        {
          "output_type": "stream",
          "name": "stdout",
          "text": [
            "<class 'numpy.ndarray'>\n",
            "2\n",
            "[('cycle', 'O')]\n",
            "(1, 1)\n"
          ]
        }
      ],
      "source": [
        "print(type(annots['B0005']))\n",
        "print(annots['B0005'].ndim)     #for dimension of annots array\n",
        "# B0005= annots['B0005'].items()\n",
        "# B0005.keys()\n",
        "# Since this array is 2D, so print starting 10 values of each 1D entry of this array\n",
        "# annots['B0005'][0,0:10]\n",
        "print(annots['B0005'].dtype)\n",
        "print(annots['B0005'].shape)"
      ]
    },
    {
      "cell_type": "markdown",
      "metadata": {
        "id": "MPAGeCDXXvdW"
      },
      "source": [
        "### Flattening and loading into lists"
      ]
    },
    {
      "cell_type": "code",
      "source": [
        "# convert str to datatime \n",
        "from datetime import datetime\n",
        "def convert_to_time(hmm):\n",
        "    year, month, day, hour, minute, second = int(hmm[0]), int(hmm[1]), int(hmm[2]), int(hmm[3]), int(hmm[4]), int(hmm[5])\n",
        "    return datetime(year=year, month=month, day=day, hour=hour, minute=minute, second=second)\n",
        "\n",
        "\n",
        "# load .mat data\n",
        "def loadMat(matfile):\n",
        "    data = scipy.io.loadmat(matfile)\n",
        "    filename = matfile.split(\"/\")[-1].split(\".\")[0]\n",
        "    col = data[filename]\n",
        "    col = col[0][0][0][0]\n",
        "    size = col.shape[0]\n",
        "\n",
        "    data = []\n",
        "    for i in range(size):\n",
        "        k = list(col[i][3][0].dtype.fields.keys())\n",
        "        d1, d2 = {}, {}\n",
        "        if str(col[i][0][0]) != 'impedance':\n",
        "            for j in range(len(k)):\n",
        "                t = col[i][3][0][0][j][0];\n",
        "                l = [t[m] for m in range(len(t))]\n",
        "                d2[k[j]] = l\n",
        "        d1['type'], d1['temp'], d1['time'], d1['data'] = str(col[i][0][0]), int(col[i][1][0]), str(convert_to_time(col[i][2][0])), d2\n",
        "        data.append(d1)\n",
        "\n",
        "    return data\n",
        "  \n",
        "# get capacity data\n",
        "def getBatteryCapacity(Battery):\n",
        "    cycle, capacity = [], []\n",
        "    i = 1\n",
        "    for Bat in Battery:\n",
        "        if Bat['type'] == 'discharge':\n",
        "            capacity.append(Bat['data']['Capacity'][0])\n",
        "            cycle.append(i)\n",
        "            i += 1\n",
        "    return [cycle, capacity]\n",
        "\n",
        "\n",
        "# get the charge data of a battery\n",
        "def getBatteryValues(Battery, Type='charge'):\n",
        "    data=[]\n",
        "    for Bat in Battery:\n",
        "        if Bat['type'] == Type:\n",
        "            data.append(Bat['data'])\n",
        "    return data"
      ],
      "metadata": {
        "id": "WC016pxXXE06"
      },
      "execution_count": null,
      "outputs": []
    },
    {
      "cell_type": "code",
      "source": [
        "Battery_list = ['B0005', 'B0006', 'B0007', 'B0018']\n",
        "# dir_path = 'datasets/NASA/'\n",
        "dir_path = '/content/'\n",
        "\n",
        "Battery = {}\n",
        "for name in Battery_list:\n",
        "    print('Load Dataset ' + name + '.mat ...')\n",
        "    path = dir_path + name + '.mat'\n",
        "    data = loadMat(path)\n",
        "    Battery[name] = getBatteryCapacity(data)\n"
      ],
      "metadata": {
        "id": "SdhAukbLXGZd"
      },
      "execution_count": null,
      "outputs": []
    }
  ],
  "metadata": {
    "colab": {
      "provenance": [],
      "include_colab_link": true
    },
    "kernelspec": {
      "display_name": "Python 3",
      "language": "python",
      "name": "python3"
    },
    "language_info": {
      "codemirror_mode": {
        "name": "ipython",
        "version": 3
      },
      "file_extension": ".py",
      "mimetype": "text/x-python",
      "name": "python",
      "nbconvert_exporter": "python",
      "pygments_lexer": "ipython3",
      "version": "3.6.5"
    }
  },
  "nbformat": 4,
  "nbformat_minor": 0
}
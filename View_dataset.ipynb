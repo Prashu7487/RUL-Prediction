{
  "nbformat": 4,
  "nbformat_minor": 0,
  "metadata": {
    "colab": {
      "provenance": [],
      "authorship_tag": "ABX9TyNt4msyOvpXWrnvA1iYhYxG",
      "include_colab_link": true
    },
    "kernelspec": {
      "name": "python3",
      "display_name": "Python 3"
    },
    "language_info": {
      "name": "python"
    }
  },
  "cells": [
    {
      "cell_type": "markdown",
      "metadata": {
        "id": "view-in-github",
        "colab_type": "text"
      },
      "source": [
        "<a href=\"https://colab.research.google.com/github/Prashu7487/RUL-Prediction/blob/main/View_dataset.ipynb\" target=\"_parent\"><img src=\"https://colab.research.google.com/assets/colab-badge.svg\" alt=\"Open In Colab\"/></a>"
      ]
    },
    {
      "cell_type": "code",
      "execution_count": null,
      "metadata": {
        "colab": {
          "base_uri": "https://localhost:8080/"
        },
        "id": "BP7mNdZu67W5",
        "outputId": "a3da896d-b6e6-453d-f4d2-7b3d102e8e6c"
      },
      "outputs": [
        {
          "output_type": "stream",
          "name": "stdout",
          "text": [
            "dict_keys(['type', 'temp', 'time', 'data'])\n",
            "          type  temp                 time  \\\n",
            "0       charge    24  2008-04-02 13:08:17   \n",
            "1    discharge    24  2008-04-02 15:25:41   \n",
            "2       charge    24  2008-04-02 16:37:51   \n",
            "3    discharge    24  2008-04-02 19:43:48   \n",
            "4       charge    24  2008-04-02 20:55:40   \n",
            "..         ...   ...                  ...   \n",
            "611  discharge    24  2008-05-27 15:52:41   \n",
            "612     charge    24  2008-05-27 17:53:59   \n",
            "613  discharge    24  2008-05-27 20:45:42   \n",
            "614  impedance    24  2008-05-27 21:34:28   \n",
            "615     charge    24  2008-05-28 11:09:42   \n",
            "\n",
            "                                                  data  \n",
            "0    {'Voltage_measured': [3.873017221300996, 3.479...  \n",
            "1    {'Voltage_measured': [4.191491807505295, 4.190...  \n",
            "2    {'Voltage_measured': [3.3250546568448542, 3.00...  \n",
            "3    {'Voltage_measured': [4.189773213846608, 4.188...  \n",
            "4    {'Voltage_measured': [3.3526036599987754, 3.03...  \n",
            "..                                                 ...  \n",
            "611  {'Voltage_measured': [4.18482689434833, 4.1843...  \n",
            "612  {'Voltage_measured': [3.7032033475672854, 3.33...  \n",
            "613  {'Voltage_measured': [4.201968615940368, 4.200...  \n",
            "614                                                 {}  \n",
            "615  {'Voltage_measured': [0.23635618415267867, 0.0...  \n",
            "\n",
            "[616 rows x 4 columns]\n"
          ]
        }
      ],
      "source": [
        "from datetime import datetime\n",
        "def convert_to_time(hmm):\n",
        "    year, month, day, hour, minute, second = int(hmm[0]), int(hmm[1]), int(hmm[2]), int(hmm[3]), int(hmm[4]), int(hmm[5])\n",
        "    return datetime(year=year, month=month, day=day, hour=hour, minute=minute, second=second)\n",
        "import scipy.io\n",
        "import pandas as pd\n",
        "matfile= '/content/B0005.mat'\n",
        "data = scipy.io.loadmat(matfile)\n",
        "filename = matfile.split(\"/\")[-1].split(\".\")[0]\n",
        "col = data[filename]\n",
        "col = col[0][0][0][0]\n",
        "size = col.shape[0]\n",
        "data = []\n",
        "for i in range(size):\n",
        "  k = list(col[i][3][0].dtype.fields.keys())\n",
        "  d1, d2 = {}, {}\n",
        "  if str(col[i][0][0]) != 'impedance':\n",
        "    for j in range(len(k)):\n",
        "      t = col[i][3][0][0][j][0];\n",
        "      l = [t[m] for m in range(len(t))]\n",
        "      d2[k[j]] = l\n",
        "  d1['type'], d1['temp'], d1['time'], d1['data'] = str(col[i][0][0]), int(col[i][1][0]), str(convert_to_time(col[i][2][0])), d2\n",
        "  data.append(d1)\n",
        "print(data[0].keys())\n",
        "cols= data[0].keys()\n",
        "dt= pd.DataFrame(data,columns=cols)\n",
        "print(dt)\n",
        "# tye(dt)"
      ]
    },
    {
      "cell_type": "code",
      "source": [],
      "metadata": {
        "id": "ZdQ29Hpb8l0Y"
      },
      "execution_count": null,
      "outputs": []
    }
  ]
}